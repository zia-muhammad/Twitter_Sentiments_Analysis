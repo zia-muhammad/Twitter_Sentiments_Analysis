{
 "cells": [
  {
   "cell_type": "markdown",
   "metadata": {},
   "source": [
    "#### Import relevant packages"
   ]
  },
  {
   "cell_type": "code",
   "execution_count": 1,
   "metadata": {},
   "outputs": [],
   "source": [
    "import numpy as np\n",
    "import pandas as pd\n",
    "import nltk\n",
    "from nltk.corpus import stopwords\n",
    "from nltk.tokenize import word_tokenize\n",
    "from nltk.stem import WordNetLemmatizer\n",
    "from string import punctuation\n",
    "from sklearn.feature_extraction.text import CountVectorizer\n",
    "from sklearn.model_selection import train_test_split\n",
    "from sklearn.linear_model import LogisticRegression\n",
    "from sklearn.metrics import f1_score\n",
    "import matplotlib.pyplot as plt\n",
    "import seaborn as sns\n",
    "import re"
   ]
  },
  {
   "cell_type": "code",
   "execution_count": 2,
   "metadata": {},
   "outputs": [],
   "source": [
    "STOPWORDS = set((stopwords.words('english')))"
   ]
  },
  {
   "cell_type": "markdown",
   "metadata": {},
   "source": [
    "#### Get input data into a Pandas dataframe"
   ]
  },
  {
   "cell_type": "code",
   "execution_count": 3,
   "metadata": {},
   "outputs": [
    {
     "data": {
      "text/html": [
       "<div>\n",
       "<style scoped>\n",
       "    .dataframe tbody tr th:only-of-type {\n",
       "        vertical-align: middle;\n",
       "    }\n",
       "\n",
       "    .dataframe tbody tr th {\n",
       "        vertical-align: top;\n",
       "    }\n",
       "\n",
       "    .dataframe thead th {\n",
       "        text-align: right;\n",
       "    }\n",
       "</style>\n",
       "<table border=\"1\" class=\"dataframe\">\n",
       "  <thead>\n",
       "    <tr style=\"text-align: right;\">\n",
       "      <th></th>\n",
       "      <th>Sentiment</th>\n",
       "      <th>SentimentText</th>\n",
       "    </tr>\n",
       "  </thead>\n",
       "  <tbody>\n",
       "    <tr>\n",
       "      <th>0</th>\n",
       "      <td>0</td>\n",
       "      <td>is so sad for my APL frie...</td>\n",
       "    </tr>\n",
       "    <tr>\n",
       "      <th>1</th>\n",
       "      <td>0</td>\n",
       "      <td>I missed the New Moon trail...</td>\n",
       "    </tr>\n",
       "    <tr>\n",
       "      <th>2</th>\n",
       "      <td>1</td>\n",
       "      <td>omg its already 7:30 :O</td>\n",
       "    </tr>\n",
       "    <tr>\n",
       "      <th>3</th>\n",
       "      <td>0</td>\n",
       "      <td>.. Omgaga. Im sooo  im gunna CRy. I'...</td>\n",
       "    </tr>\n",
       "    <tr>\n",
       "      <th>4</th>\n",
       "      <td>0</td>\n",
       "      <td>i think mi bf is cheating on me!!!   ...</td>\n",
       "    </tr>\n",
       "  </tbody>\n",
       "</table>\n",
       "</div>"
      ],
      "text/plain": [
       "   Sentiment                                      SentimentText\n",
       "0          0                       is so sad for my APL frie...\n",
       "1          0                     I missed the New Moon trail...\n",
       "2          1                            omg its already 7:30 :O\n",
       "3          0            .. Omgaga. Im sooo  im gunna CRy. I'...\n",
       "4          0           i think mi bf is cheating on me!!!   ..."
      ]
     },
     "execution_count": 3,
     "metadata": {},
     "output_type": "execute_result"
    }
   ],
   "source": [
    "twitter_data = pd.read_csv('Sentiment Analysis Dataset.csv', usecols=['Sentiment','SentimentText'])\n",
    "twitter_data.head()"
   ]
  },
  {
   "cell_type": "markdown",
   "metadata": {},
   "source": [
    "#### Exploratory Data Analysis\n",
    "Here I explore the data keeping in mind different aspects such as missing values and correlation between various features"
   ]
  },
  {
   "cell_type": "code",
   "execution_count": 4,
   "metadata": {},
   "outputs": [
    {
     "data": {
      "text/plain": [
       "(1578614, 2)"
      ]
     },
     "execution_count": 4,
     "metadata": {},
     "output_type": "execute_result"
    }
   ],
   "source": [
    "twitter_data.shape"
   ]
  },
  {
   "cell_type": "markdown",
   "metadata": {},
   "source": [
    "Here I check if there are missing values in the data."
   ]
  },
  {
   "cell_type": "code",
   "execution_count": 5,
   "metadata": {},
   "outputs": [
    {
     "data": {
      "text/plain": [
       "Sentiment        0\n",
       "SentimentText    0\n",
       "dtype: int64"
      ]
     },
     "execution_count": 5,
     "metadata": {},
     "output_type": "execute_result"
    }
   ],
   "source": [
    "twitter_data.isnull().sum()"
   ]
  },
  {
   "cell_type": "markdown",
   "metadata": {},
   "source": [
    "As from above dataframe, my observation on missing data are:\n",
    "\n",
    "There is no missing values in our dataset."
   ]
  },
  {
   "cell_type": "code",
   "execution_count": 6,
   "metadata": {},
   "outputs": [
    {
     "data": {
      "text/html": [
       "<div>\n",
       "<style scoped>\n",
       "    .dataframe tbody tr th:only-of-type {\n",
       "        vertical-align: middle;\n",
       "    }\n",
       "\n",
       "    .dataframe tbody tr th {\n",
       "        vertical-align: top;\n",
       "    }\n",
       "\n",
       "    .dataframe thead th {\n",
       "        text-align: right;\n",
       "    }\n",
       "</style>\n",
       "<table border=\"1\" class=\"dataframe\">\n",
       "  <thead>\n",
       "    <tr style=\"text-align: right;\">\n",
       "      <th></th>\n",
       "      <th>Sentiment</th>\n",
       "      <th>SentimentText</th>\n",
       "    </tr>\n",
       "  </thead>\n",
       "  <tbody>\n",
       "    <tr>\n",
       "      <th>0</th>\n",
       "      <td>0</td>\n",
       "      <td>is so sad for my APL frie...</td>\n",
       "    </tr>\n",
       "    <tr>\n",
       "      <th>1</th>\n",
       "      <td>0</td>\n",
       "      <td>I missed the New Moon trail...</td>\n",
       "    </tr>\n",
       "    <tr>\n",
       "      <th>3</th>\n",
       "      <td>0</td>\n",
       "      <td>.. Omgaga. Im sooo  im gunna CRy. I'...</td>\n",
       "    </tr>\n",
       "    <tr>\n",
       "      <th>4</th>\n",
       "      <td>0</td>\n",
       "      <td>i think mi bf is cheating on me!!!   ...</td>\n",
       "    </tr>\n",
       "    <tr>\n",
       "      <th>5</th>\n",
       "      <td>0</td>\n",
       "      <td>or i just worry too much?</td>\n",
       "    </tr>\n",
       "    <tr>\n",
       "      <th>7</th>\n",
       "      <td>0</td>\n",
       "      <td>Sunny Again        Work Tomorrow  :-|  ...</td>\n",
       "    </tr>\n",
       "    <tr>\n",
       "      <th>10</th>\n",
       "      <td>0</td>\n",
       "      <td>I must think about positive..</td>\n",
       "    </tr>\n",
       "    <tr>\n",
       "      <th>12</th>\n",
       "      <td>0</td>\n",
       "      <td>this weekend has sucked so far</td>\n",
       "    </tr>\n",
       "    <tr>\n",
       "      <th>13</th>\n",
       "      <td>0</td>\n",
       "      <td>jb isnt showing in australia any more!</td>\n",
       "    </tr>\n",
       "    <tr>\n",
       "      <th>14</th>\n",
       "      <td>0</td>\n",
       "      <td>ok thats it you win.</td>\n",
       "    </tr>\n",
       "  </tbody>\n",
       "</table>\n",
       "</div>"
      ],
      "text/plain": [
       "    Sentiment                                      SentimentText\n",
       "0           0                       is so sad for my APL frie...\n",
       "1           0                     I missed the New Moon trail...\n",
       "3           0            .. Omgaga. Im sooo  im gunna CRy. I'...\n",
       "4           0           i think mi bf is cheating on me!!!   ...\n",
       "5           0                  or i just worry too much?        \n",
       "7           0         Sunny Again        Work Tomorrow  :-|  ...\n",
       "10          0                      I must think about positive..\n",
       "12          0                     this weekend has sucked so far\n",
       "13          0             jb isnt showing in australia any more!\n",
       "14          0                               ok thats it you win."
      ]
     },
     "execution_count": 6,
     "metadata": {},
     "output_type": "execute_result"
    }
   ],
   "source": [
    "# checking out the negative comments from the dataset\n",
    "twitter_data[twitter_data['Sentiment'] == 0].head(10)"
   ]
  },
  {
   "cell_type": "code",
   "execution_count": 7,
   "metadata": {},
   "outputs": [
    {
     "data": {
      "text/html": [
       "<div>\n",
       "<style scoped>\n",
       "    .dataframe tbody tr th:only-of-type {\n",
       "        vertical-align: middle;\n",
       "    }\n",
       "\n",
       "    .dataframe tbody tr th {\n",
       "        vertical-align: top;\n",
       "    }\n",
       "\n",
       "    .dataframe thead th {\n",
       "        text-align: right;\n",
       "    }\n",
       "</style>\n",
       "<table border=\"1\" class=\"dataframe\">\n",
       "  <thead>\n",
       "    <tr style=\"text-align: right;\">\n",
       "      <th></th>\n",
       "      <th>Sentiment</th>\n",
       "      <th>SentimentText</th>\n",
       "    </tr>\n",
       "  </thead>\n",
       "  <tbody>\n",
       "    <tr>\n",
       "      <th>2</th>\n",
       "      <td>1</td>\n",
       "      <td>omg its already 7:30 :O</td>\n",
       "    </tr>\n",
       "    <tr>\n",
       "      <th>6</th>\n",
       "      <td>1</td>\n",
       "      <td>Juuuuuuuuuuuuuuuuussssst Chillin!!</td>\n",
       "    </tr>\n",
       "    <tr>\n",
       "      <th>8</th>\n",
       "      <td>1</td>\n",
       "      <td>handed in my uniform today . i miss you ...</td>\n",
       "    </tr>\n",
       "    <tr>\n",
       "      <th>9</th>\n",
       "      <td>1</td>\n",
       "      <td>hmmmm.... i wonder how she my number @-)</td>\n",
       "    </tr>\n",
       "    <tr>\n",
       "      <th>11</th>\n",
       "      <td>1</td>\n",
       "      <td>thanks to all the haters up in my face a...</td>\n",
       "    </tr>\n",
       "    <tr>\n",
       "      <th>17</th>\n",
       "      <td>1</td>\n",
       "      <td>Feeling strangely fine. Now I'm gonna go l...</td>\n",
       "    </tr>\n",
       "    <tr>\n",
       "      <th>22</th>\n",
       "      <td>1</td>\n",
       "      <td>You're the only one who can see this cause...</td>\n",
       "    </tr>\n",
       "    <tr>\n",
       "      <th>28</th>\n",
       "      <td>1</td>\n",
       "      <td>goodbye exams, HELLO ALCOHOL TONIGHT</td>\n",
       "    </tr>\n",
       "    <tr>\n",
       "      <th>38</th>\n",
       "      <td>1</td>\n",
       "      <td>uploading pictures on friendster</td>\n",
       "    </tr>\n",
       "    <tr>\n",
       "      <th>41</th>\n",
       "      <td>1</td>\n",
       "      <td>(: !!!!!! - so i wrote something last week. ...</td>\n",
       "    </tr>\n",
       "  </tbody>\n",
       "</table>\n",
       "</div>"
      ],
      "text/plain": [
       "    Sentiment                                      SentimentText\n",
       "2           1                            omg its already 7:30 :O\n",
       "6           1                 Juuuuuuuuuuuuuuuuussssst Chillin!!\n",
       "8           1        handed in my uniform today . i miss you ...\n",
       "9           1           hmmmm.... i wonder how she my number @-)\n",
       "11          1        thanks to all the haters up in my face a...\n",
       "17          1      Feeling strangely fine. Now I'm gonna go l...\n",
       "22          1      You're the only one who can see this cause...\n",
       "28          1              goodbye exams, HELLO ALCOHOL TONIGHT \n",
       "38          1                  uploading pictures on friendster \n",
       "41          1    (: !!!!!! - so i wrote something last week. ..."
      ]
     },
     "execution_count": 7,
     "metadata": {},
     "output_type": "execute_result"
    }
   ],
   "source": [
    "# checking out the possitive comments from the dataset\n",
    "twitter_data[twitter_data['Sentiment'] == 1].head(10)"
   ]
  },
  {
   "cell_type": "code",
   "execution_count": 8,
   "metadata": {},
   "outputs": [
    {
     "name": "stdout",
     "output_type": "stream",
     "text": [
      "number of positve tagged sentences is:  790178\n",
      "number of negative tagged sentences is: 788436\n",
      "total length of the data is:            1578614\n"
     ]
    }
   ],
   "source": [
    "positives = twitter_data['Sentiment'][twitter_data.Sentiment == 1]\n",
    "negatives = twitter_data['Sentiment'][twitter_data.Sentiment == 0]\n",
    "\n",
    "print('number of positve tagged sentences is:  {}'.format(len(positives)))\n",
    "print('number of negative tagged sentences is: {}'.format(len(negatives)))\n",
    "print('total length of the data is:            {}'.format(twitter_data.shape[0]))"
   ]
  },
  {
   "cell_type": "markdown",
   "metadata": {},
   "source": [
    "Considering the size of the dataset, the labels seem to be ‘about’ evenly distributed at 788435 vs. 790177 for negative and positive respectively"
   ]
  },
  {
   "cell_type": "code",
   "execution_count": 9,
   "metadata": {},
   "outputs": [
    {
     "data": {
      "text/html": [
       "<div>\n",
       "<style scoped>\n",
       "    .dataframe tbody tr th:only-of-type {\n",
       "        vertical-align: middle;\n",
       "    }\n",
       "\n",
       "    .dataframe tbody tr th {\n",
       "        vertical-align: top;\n",
       "    }\n",
       "\n",
       "    .dataframe thead th {\n",
       "        text-align: right;\n",
       "    }\n",
       "</style>\n",
       "<table border=\"1\" class=\"dataframe\">\n",
       "  <thead>\n",
       "    <tr style=\"text-align: right;\">\n",
       "      <th></th>\n",
       "      <th>Sentiment</th>\n",
       "      <th>SentimentText</th>\n",
       "      <th>wordcount</th>\n",
       "    </tr>\n",
       "  </thead>\n",
       "  <tbody>\n",
       "    <tr>\n",
       "      <th>0</th>\n",
       "      <td>0</td>\n",
       "      <td>is so sad for my APL frie...</td>\n",
       "      <td>7</td>\n",
       "    </tr>\n",
       "    <tr>\n",
       "      <th>1</th>\n",
       "      <td>0</td>\n",
       "      <td>I missed the New Moon trail...</td>\n",
       "      <td>6</td>\n",
       "    </tr>\n",
       "    <tr>\n",
       "      <th>2</th>\n",
       "      <td>1</td>\n",
       "      <td>omg its already 7:30 :O</td>\n",
       "      <td>5</td>\n",
       "    </tr>\n",
       "    <tr>\n",
       "      <th>3</th>\n",
       "      <td>0</td>\n",
       "      <td>.. Omgaga. Im sooo  im gunna CRy. I'...</td>\n",
       "      <td>25</td>\n",
       "    </tr>\n",
       "    <tr>\n",
       "      <th>4</th>\n",
       "      <td>0</td>\n",
       "      <td>i think mi bf is cheating on me!!!   ...</td>\n",
       "      <td>9</td>\n",
       "    </tr>\n",
       "  </tbody>\n",
       "</table>\n",
       "</div>"
      ],
      "text/plain": [
       "   Sentiment                                      SentimentText  wordcount\n",
       "0          0                       is so sad for my APL frie...          7\n",
       "1          0                     I missed the New Moon trail...          6\n",
       "2          1                            omg its already 7:30 :O          5\n",
       "3          0            .. Omgaga. Im sooo  im gunna CRy. I'...         25\n",
       "4          0           i think mi bf is cheating on me!!!   ...          9"
      ]
     },
     "execution_count": 9,
     "metadata": {},
     "output_type": "execute_result"
    }
   ],
   "source": [
    "# find words in a tweet\n",
    "def word_count(sentence):\n",
    "    return len(sentence.split())\n",
    "    \n",
    "twitter_data['wordcount'] = twitter_data['SentimentText'].apply(word_count)\n",
    "twitter_data.head()"
   ]
  },
  {
   "cell_type": "markdown",
   "metadata": {},
   "source": [
    "#### Text Processing\n",
    "Steps involved in text processing are:\n",
    "1. Cleaning of Raw Data\n",
    "2. Tokenization\n",
    "3. lemmatization"
   ]
  },
  {
   "cell_type": "markdown",
   "metadata": {},
   "source": [
    "#### Cleaning of Raw Data\n",
    "I created different following funtions to clean up every tweet in the dataset.\n",
    "1. Lowering case\n",
    "2. Removal of mentions\n",
    "3. Removal of special characters\n",
    "4. Removal of stopwords\n",
    "5. Removal of hyperlinks\n",
    "6. Removal of numbers\n",
    "7. Removal of whitespaces\n",
    "8. Removal of punctuations"
   ]
  },
  {
   "cell_type": "code",
   "execution_count": 10,
   "metadata": {},
   "outputs": [],
   "source": [
    "def to_lower(sentiment_text):\n",
    "    result = sentiment_text.lower()\n",
    "    return result"
   ]
  },
  {
   "cell_type": "code",
   "execution_count": 11,
   "metadata": {},
   "outputs": [
    {
     "data": {
      "text/plain": [
       "0                         is so sad for my apl frie...\n",
       "1                       i missed the new moon trail...\n",
       "2                              omg its already 7:30 :o\n",
       "3              .. omgaga. im sooo  im gunna cry. i'...\n",
       "4             i think mi bf is cheating on me!!!   ...\n",
       "5                    or i just worry too much?        \n",
       "6                   juuuuuuuuuuuuuuuuussssst chillin!!\n",
       "7           sunny again        work tomorrow  :-|  ...\n",
       "8          handed in my uniform today . i miss you ...\n",
       "9             hmmmm.... i wonder how she my number @-)\n",
       "Name: SentimentText, dtype: object"
      ]
     },
     "execution_count": 11,
     "metadata": {},
     "output_type": "execute_result"
    }
   ],
   "source": [
    "twitter_data['SentimentText'] = twitter_data['SentimentText'].apply(to_lower)\n",
    "twitter_data['SentimentText'].head(10)"
   ]
  },
  {
   "cell_type": "code",
   "execution_count": 12,
   "metadata": {},
   "outputs": [],
   "source": [
    "def remove_hyperlink(sentiment_text):\n",
    "    return  re.sub(r\"http\\S+\", \"\", sentiment_text)"
   ]
  },
  {
   "cell_type": "code",
   "execution_count": 13,
   "metadata": {},
   "outputs": [
    {
     "data": {
      "text/plain": [
       "0                         is so sad for my apl frie...\n",
       "1                       i missed the new moon trail...\n",
       "2                              omg its already 7:30 :o\n",
       "3              .. omgaga. im sooo  im gunna cry. i'...\n",
       "4             i think mi bf is cheating on me!!!   ...\n",
       "5                    or i just worry too much?        \n",
       "6                   juuuuuuuuuuuuuuuuussssst chillin!!\n",
       "7           sunny again        work tomorrow  :-|  ...\n",
       "8          handed in my uniform today . i miss you ...\n",
       "9             hmmmm.... i wonder how she my number @-)\n",
       "Name: SentimentText, dtype: object"
      ]
     },
     "execution_count": 13,
     "metadata": {},
     "output_type": "execute_result"
    }
   ],
   "source": [
    "twitter_data['SentimentText'] = twitter_data['SentimentText'].apply(remove_hyperlink)\n",
    "twitter_data['SentimentText'].head(10)"
   ]
  },
  {
   "cell_type": "code",
   "execution_count": 14,
   "metadata": {},
   "outputs": [],
   "source": [
    "def remove_mentions(sentiment_text):\n",
    "    return re.sub(r\"@\\S+\", \"\", sentiment_text)"
   ]
  },
  {
   "cell_type": "code",
   "execution_count": 15,
   "metadata": {},
   "outputs": [
    {
     "data": {
      "text/plain": [
       "0                         is so sad for my apl frie...\n",
       "1                       i missed the new moon trail...\n",
       "2                              omg its already 7:30 :o\n",
       "3              .. omgaga. im sooo  im gunna cry. i'...\n",
       "4             i think mi bf is cheating on me!!!   ...\n",
       "5                    or i just worry too much?        \n",
       "6                   juuuuuuuuuuuuuuuuussssst chillin!!\n",
       "7           sunny again        work tomorrow  :-|  ...\n",
       "8          handed in my uniform today . i miss you ...\n",
       "9                hmmmm.... i wonder how she my number \n",
       "Name: SentimentText, dtype: object"
      ]
     },
     "execution_count": 15,
     "metadata": {},
     "output_type": "execute_result"
    }
   ],
   "source": [
    "twitter_data['SentimentText'] = twitter_data['SentimentText'].apply(remove_mentions)\n",
    "twitter_data['SentimentText'].head(10)"
   ]
  },
  {
   "cell_type": "code",
   "execution_count": 16,
   "metadata": {},
   "outputs": [],
   "source": [
    "def remove_number(sentiment_text):\n",
    "    result = re.sub(r'\\d+', '', sentiment_text)\n",
    "    return result"
   ]
  },
  {
   "cell_type": "code",
   "execution_count": 17,
   "metadata": {},
   "outputs": [
    {
     "data": {
      "text/plain": [
       "0                         is so sad for my apl frie...\n",
       "1                       i missed the new moon trail...\n",
       "2                                 omg its already : :o\n",
       "3              .. omgaga. im sooo  im gunna cry. i'...\n",
       "4             i think mi bf is cheating on me!!!   ...\n",
       "5                    or i just worry too much?        \n",
       "6                   juuuuuuuuuuuuuuuuussssst chillin!!\n",
       "7           sunny again        work tomorrow  :-|  ...\n",
       "8          handed in my uniform today . i miss you ...\n",
       "9                hmmmm.... i wonder how she my number \n",
       "Name: SentimentText, dtype: object"
      ]
     },
     "execution_count": 17,
     "metadata": {},
     "output_type": "execute_result"
    }
   ],
   "source": [
    "twitter_data['SentimentText'] = twitter_data['SentimentText'].apply(remove_number)\n",
    "twitter_data['SentimentText'].head(10)"
   ]
  },
  {
   "cell_type": "code",
   "execution_count": 18,
   "metadata": {},
   "outputs": [],
   "source": [
    "def remove_punctuation(sentiment_text):\n",
    "    result = re.sub('[^A-Za-z]+', ' ', sentiment_text)\n",
    "    return result"
   ]
  },
  {
   "cell_type": "code",
   "execution_count": 19,
   "metadata": {},
   "outputs": [
    {
     "data": {
      "text/plain": [
       "0                         is so sad for my apl friend \n",
       "1                       i missed the new moon trailer \n",
       "2                                    omg its already o\n",
       "3     omgaga im sooo im gunna cry i ve been at this...\n",
       "4                  i think mi bf is cheating on me t t\n",
       "5                            or i just worry too much \n",
       "6                    juuuuuuuuuuuuuuuuussssst chillin \n",
       "7                 sunny again work tomorrow tv tonight\n",
       "8        handed in my uniform today i miss you already\n",
       "9                    hmmmm i wonder how she my number \n",
       "Name: SentimentText, dtype: object"
      ]
     },
     "execution_count": 19,
     "metadata": {},
     "output_type": "execute_result"
    }
   ],
   "source": [
    "twitter_data['SentimentText'] = twitter_data['SentimentText'].apply(remove_punctuation)\n",
    "twitter_data['SentimentText'].head(10)"
   ]
  },
  {
   "cell_type": "code",
   "execution_count": 20,
   "metadata": {},
   "outputs": [],
   "source": [
    "def remove_whitespace(sentiment_text):\n",
    "    result = sentiment_text.strip()\n",
    "    return result"
   ]
  },
  {
   "cell_type": "code",
   "execution_count": 21,
   "metadata": {},
   "outputs": [
    {
     "data": {
      "text/plain": [
       "0                          is so sad for my apl friend\n",
       "1                        i missed the new moon trailer\n",
       "2                                    omg its already o\n",
       "3    omgaga im sooo im gunna cry i ve been at this ...\n",
       "4                  i think mi bf is cheating on me t t\n",
       "5                             or i just worry too much\n",
       "6                     juuuuuuuuuuuuuuuuussssst chillin\n",
       "7                 sunny again work tomorrow tv tonight\n",
       "8        handed in my uniform today i miss you already\n",
       "9                     hmmmm i wonder how she my number\n",
       "Name: SentimentText, dtype: object"
      ]
     },
     "execution_count": 21,
     "metadata": {},
     "output_type": "execute_result"
    }
   ],
   "source": [
    "twitter_data['SentimentText'] = twitter_data['SentimentText'].apply(remove_whitespace)\n",
    "twitter_data['SentimentText'].head(10)"
   ]
  },
  {
   "cell_type": "code",
   "execution_count": 22,
   "metadata": {},
   "outputs": [],
   "source": [
    "def replace_newline(sentiment_text):\n",
    "    return sentiment_text.replace('\\n',' ')"
   ]
  },
  {
   "cell_type": "code",
   "execution_count": 23,
   "metadata": {},
   "outputs": [
    {
     "data": {
      "text/plain": [
       "0                          is so sad for my apl friend\n",
       "1                        i missed the new moon trailer\n",
       "2                                    omg its already o\n",
       "3    omgaga im sooo im gunna cry i ve been at this ...\n",
       "4                  i think mi bf is cheating on me t t\n",
       "5                             or i just worry too much\n",
       "6                     juuuuuuuuuuuuuuuuussssst chillin\n",
       "7                 sunny again work tomorrow tv tonight\n",
       "8        handed in my uniform today i miss you already\n",
       "9                     hmmmm i wonder how she my number\n",
       "Name: SentimentText, dtype: object"
      ]
     },
     "execution_count": 23,
     "metadata": {},
     "output_type": "execute_result"
    }
   ],
   "source": [
    "twitter_data['SentimentText'] = twitter_data['SentimentText'].apply(replace_newline)\n",
    "twitter_data['SentimentText'].head(10)"
   ]
  },
  {
   "cell_type": "code",
   "execution_count": 24,
   "metadata": {},
   "outputs": [],
   "source": [
    "def reomve_two_letter_word(sentiment_text):\n",
    "    result = re.sub(r'\\b\\w{1,2}\\b', '', sentiment_text)\n",
    "    return result"
   ]
  },
  {
   "cell_type": "code",
   "execution_count": 25,
   "metadata": {},
   "outputs": [
    {
     "data": {
      "text/plain": [
       "0                                  sad for  apl friend\n",
       "1                          missed the new moon trailer\n",
       "2                                     omg its already \n",
       "3    omgaga  sooo  gunna cry   been  this dentist s...\n",
       "4                                think    cheating    \n",
       "5                                  just worry too much\n",
       "6                     juuuuuuuuuuuuuuuuussssst chillin\n",
       "7                   sunny again work tomorrow  tonight\n",
       "8             handed   uniform today  miss you already\n",
       "9                        hmmmm  wonder how she  number\n",
       "Name: SentimentText, dtype: object"
      ]
     },
     "execution_count": 25,
     "metadata": {},
     "output_type": "execute_result"
    }
   ],
   "source": [
    "twitter_data['SentimentText'] = twitter_data['SentimentText'].apply(reomve_two_letter_word)\n",
    "twitter_data['SentimentText'].head(10)"
   ]
  },
  {
   "cell_type": "markdown",
   "metadata": {},
   "source": [
    "### Tokenization"
   ]
  },
  {
   "cell_type": "code",
   "execution_count": 26,
   "metadata": {},
   "outputs": [],
   "source": [
    "twitter_data['SentimentText'] = twitter_data['SentimentText'].apply(word_tokenize)"
   ]
  },
  {
   "cell_type": "code",
   "execution_count": 27,
   "metadata": {},
   "outputs": [
    {
     "data": {
      "text/html": [
       "<div>\n",
       "<style scoped>\n",
       "    .dataframe tbody tr th:only-of-type {\n",
       "        vertical-align: middle;\n",
       "    }\n",
       "\n",
       "    .dataframe tbody tr th {\n",
       "        vertical-align: top;\n",
       "    }\n",
       "\n",
       "    .dataframe thead th {\n",
       "        text-align: right;\n",
       "    }\n",
       "</style>\n",
       "<table border=\"1\" class=\"dataframe\">\n",
       "  <thead>\n",
       "    <tr style=\"text-align: right;\">\n",
       "      <th></th>\n",
       "      <th>Sentiment</th>\n",
       "      <th>SentimentText</th>\n",
       "      <th>wordcount</th>\n",
       "    </tr>\n",
       "  </thead>\n",
       "  <tbody>\n",
       "    <tr>\n",
       "      <th>0</th>\n",
       "      <td>0</td>\n",
       "      <td>[sad, for, apl, friend]</td>\n",
       "      <td>7</td>\n",
       "    </tr>\n",
       "    <tr>\n",
       "      <th>1</th>\n",
       "      <td>0</td>\n",
       "      <td>[missed, the, new, moon, trailer]</td>\n",
       "      <td>6</td>\n",
       "    </tr>\n",
       "    <tr>\n",
       "      <th>2</th>\n",
       "      <td>1</td>\n",
       "      <td>[omg, its, already]</td>\n",
       "      <td>5</td>\n",
       "    </tr>\n",
       "    <tr>\n",
       "      <th>3</th>\n",
       "      <td>0</td>\n",
       "      <td>[omgaga, sooo, gunna, cry, been, this, dentist...</td>\n",
       "      <td>25</td>\n",
       "    </tr>\n",
       "    <tr>\n",
       "      <th>4</th>\n",
       "      <td>0</td>\n",
       "      <td>[think, cheating]</td>\n",
       "      <td>9</td>\n",
       "    </tr>\n",
       "  </tbody>\n",
       "</table>\n",
       "</div>"
      ],
      "text/plain": [
       "   Sentiment                                      SentimentText  wordcount\n",
       "0          0                            [sad, for, apl, friend]          7\n",
       "1          0                  [missed, the, new, moon, trailer]          6\n",
       "2          1                                [omg, its, already]          5\n",
       "3          0  [omgaga, sooo, gunna, cry, been, this, dentist...         25\n",
       "4          0                                  [think, cheating]          9"
      ]
     },
     "execution_count": 27,
     "metadata": {},
     "output_type": "execute_result"
    }
   ],
   "source": [
    "twitter_data.head()"
   ]
  },
  {
   "cell_type": "code",
   "execution_count": 28,
   "metadata": {},
   "outputs": [],
   "source": [
    "def remove_stopwords(sentiment_text):\n",
    "    return [word for word in sentiment_text if not word in STOPWORDS]"
   ]
  },
  {
   "cell_type": "code",
   "execution_count": 29,
   "metadata": {},
   "outputs": [
    {
     "data": {
      "text/html": [
       "<div>\n",
       "<style scoped>\n",
       "    .dataframe tbody tr th:only-of-type {\n",
       "        vertical-align: middle;\n",
       "    }\n",
       "\n",
       "    .dataframe tbody tr th {\n",
       "        vertical-align: top;\n",
       "    }\n",
       "\n",
       "    .dataframe thead th {\n",
       "        text-align: right;\n",
       "    }\n",
       "</style>\n",
       "<table border=\"1\" class=\"dataframe\">\n",
       "  <thead>\n",
       "    <tr style=\"text-align: right;\">\n",
       "      <th></th>\n",
       "      <th>Sentiment</th>\n",
       "      <th>SentimentText</th>\n",
       "      <th>wordcount</th>\n",
       "    </tr>\n",
       "  </thead>\n",
       "  <tbody>\n",
       "    <tr>\n",
       "      <th>0</th>\n",
       "      <td>0</td>\n",
       "      <td>[sad, apl, friend]</td>\n",
       "      <td>7</td>\n",
       "    </tr>\n",
       "    <tr>\n",
       "      <th>1</th>\n",
       "      <td>0</td>\n",
       "      <td>[missed, new, moon, trailer]</td>\n",
       "      <td>6</td>\n",
       "    </tr>\n",
       "    <tr>\n",
       "      <th>2</th>\n",
       "      <td>1</td>\n",
       "      <td>[omg, already]</td>\n",
       "      <td>5</td>\n",
       "    </tr>\n",
       "    <tr>\n",
       "      <th>3</th>\n",
       "      <td>0</td>\n",
       "      <td>[omgaga, sooo, gunna, cry, dentist, since, sup...</td>\n",
       "      <td>25</td>\n",
       "    </tr>\n",
       "    <tr>\n",
       "      <th>4</th>\n",
       "      <td>0</td>\n",
       "      <td>[think, cheating]</td>\n",
       "      <td>9</td>\n",
       "    </tr>\n",
       "    <tr>\n",
       "      <th>5</th>\n",
       "      <td>0</td>\n",
       "      <td>[worry, much]</td>\n",
       "      <td>6</td>\n",
       "    </tr>\n",
       "    <tr>\n",
       "      <th>6</th>\n",
       "      <td>1</td>\n",
       "      <td>[juuuuuuuuuuuuuuuuussssst, chillin]</td>\n",
       "      <td>2</td>\n",
       "    </tr>\n",
       "    <tr>\n",
       "      <th>7</th>\n",
       "      <td>0</td>\n",
       "      <td>[sunny, work, tomorrow, tonight]</td>\n",
       "      <td>7</td>\n",
       "    </tr>\n",
       "    <tr>\n",
       "      <th>8</th>\n",
       "      <td>1</td>\n",
       "      <td>[handed, uniform, today, miss, already]</td>\n",
       "      <td>10</td>\n",
       "    </tr>\n",
       "    <tr>\n",
       "      <th>9</th>\n",
       "      <td>1</td>\n",
       "      <td>[hmmmm, wonder, number]</td>\n",
       "      <td>8</td>\n",
       "    </tr>\n",
       "  </tbody>\n",
       "</table>\n",
       "</div>"
      ],
      "text/plain": [
       "   Sentiment                                      SentimentText  wordcount\n",
       "0          0                                 [sad, apl, friend]          7\n",
       "1          0                       [missed, new, moon, trailer]          6\n",
       "2          1                                     [omg, already]          5\n",
       "3          0  [omgaga, sooo, gunna, cry, dentist, since, sup...         25\n",
       "4          0                                  [think, cheating]          9\n",
       "5          0                                      [worry, much]          6\n",
       "6          1                [juuuuuuuuuuuuuuuuussssst, chillin]          2\n",
       "7          0                   [sunny, work, tomorrow, tonight]          7\n",
       "8          1            [handed, uniform, today, miss, already]         10\n",
       "9          1                            [hmmmm, wonder, number]          8"
      ]
     },
     "execution_count": 29,
     "metadata": {},
     "output_type": "execute_result"
    }
   ],
   "source": [
    "twitter_data['SentimentText'] = twitter_data['SentimentText'].apply(remove_stopwords)\n",
    "twitter_data.head(10)"
   ]
  },
  {
   "cell_type": "markdown",
   "metadata": {},
   "source": [
    "### Lemmatization"
   ]
  },
  {
   "cell_type": "code",
   "execution_count": 30,
   "metadata": {},
   "outputs": [],
   "source": [
    "lemmatizer = WordNetLemmatizer()\n",
    "def lemmatizer_on_text(words):\n",
    "    lemmatizer_words = [lemmatizer.lemmatize(word) for word in words]\n",
    "    return lemmatizer_words\n",
    "twitter_data['SentimentText']= twitter_data['SentimentText'].apply(lambda x: lemmatizer_on_text(x))"
   ]
  },
  {
   "cell_type": "code",
   "execution_count": 31,
   "metadata": {},
   "outputs": [
    {
     "data": {
      "text/html": [
       "<div>\n",
       "<style scoped>\n",
       "    .dataframe tbody tr th:only-of-type {\n",
       "        vertical-align: middle;\n",
       "    }\n",
       "\n",
       "    .dataframe tbody tr th {\n",
       "        vertical-align: top;\n",
       "    }\n",
       "\n",
       "    .dataframe thead th {\n",
       "        text-align: right;\n",
       "    }\n",
       "</style>\n",
       "<table border=\"1\" class=\"dataframe\">\n",
       "  <thead>\n",
       "    <tr style=\"text-align: right;\">\n",
       "      <th></th>\n",
       "      <th>Sentiment</th>\n",
       "      <th>SentimentText</th>\n",
       "      <th>wordcount</th>\n",
       "    </tr>\n",
       "  </thead>\n",
       "  <tbody>\n",
       "    <tr>\n",
       "      <th>0</th>\n",
       "      <td>0</td>\n",
       "      <td>[sad, apl, friend]</td>\n",
       "      <td>7</td>\n",
       "    </tr>\n",
       "    <tr>\n",
       "      <th>1</th>\n",
       "      <td>0</td>\n",
       "      <td>[missed, new, moon, trailer]</td>\n",
       "      <td>6</td>\n",
       "    </tr>\n",
       "    <tr>\n",
       "      <th>2</th>\n",
       "      <td>1</td>\n",
       "      <td>[omg, already]</td>\n",
       "      <td>5</td>\n",
       "    </tr>\n",
       "    <tr>\n",
       "      <th>3</th>\n",
       "      <td>0</td>\n",
       "      <td>[omgaga, sooo, gunna, cry, dentist, since, sup...</td>\n",
       "      <td>25</td>\n",
       "    </tr>\n",
       "    <tr>\n",
       "      <th>4</th>\n",
       "      <td>0</td>\n",
       "      <td>[think, cheating]</td>\n",
       "      <td>9</td>\n",
       "    </tr>\n",
       "  </tbody>\n",
       "</table>\n",
       "</div>"
      ],
      "text/plain": [
       "   Sentiment                                      SentimentText  wordcount\n",
       "0          0                                 [sad, apl, friend]          7\n",
       "1          0                       [missed, new, moon, trailer]          6\n",
       "2          1                                     [omg, already]          5\n",
       "3          0  [omgaga, sooo, gunna, cry, dentist, since, sup...         25\n",
       "4          0                                  [think, cheating]          9"
      ]
     },
     "execution_count": 31,
     "metadata": {},
     "output_type": "execute_result"
    }
   ],
   "source": [
    "twitter_data.head()"
   ]
  },
  {
   "cell_type": "markdown",
   "metadata": {},
   "source": [
    "### Top 10 most positive and negative words "
   ]
  },
  {
   "cell_type": "code",
   "execution_count": 32,
   "metadata": {},
   "outputs": [],
   "source": [
    "positive_tweets = twitter_data[twitter_data['Sentiment'] == 1]\n",
    "negative_tweets = twitter_data[twitter_data['Sentiment'] == 0]"
   ]
  },
  {
   "cell_type": "code",
   "execution_count": 33,
   "metadata": {},
   "outputs": [
    {
     "data": {
      "text/html": [
       "<div>\n",
       "<style scoped>\n",
       "    .dataframe tbody tr th:only-of-type {\n",
       "        vertical-align: middle;\n",
       "    }\n",
       "\n",
       "    .dataframe tbody tr th {\n",
       "        vertical-align: top;\n",
       "    }\n",
       "\n",
       "    .dataframe thead th {\n",
       "        text-align: right;\n",
       "    }\n",
       "</style>\n",
       "<table border=\"1\" class=\"dataframe\">\n",
       "  <thead>\n",
       "    <tr style=\"text-align: right;\">\n",
       "      <th></th>\n",
       "      <th>Sentiment</th>\n",
       "      <th>SentimentText</th>\n",
       "      <th>wordcount</th>\n",
       "    </tr>\n",
       "  </thead>\n",
       "  <tbody>\n",
       "    <tr>\n",
       "      <th>2</th>\n",
       "      <td>1</td>\n",
       "      <td>[omg, already]</td>\n",
       "      <td>5</td>\n",
       "    </tr>\n",
       "    <tr>\n",
       "      <th>6</th>\n",
       "      <td>1</td>\n",
       "      <td>[juuuuuuuuuuuuuuuuussssst, chillin]</td>\n",
       "      <td>2</td>\n",
       "    </tr>\n",
       "    <tr>\n",
       "      <th>8</th>\n",
       "      <td>1</td>\n",
       "      <td>[handed, uniform, today, miss, already]</td>\n",
       "      <td>10</td>\n",
       "    </tr>\n",
       "    <tr>\n",
       "      <th>9</th>\n",
       "      <td>1</td>\n",
       "      <td>[hmmmm, wonder, number]</td>\n",
       "      <td>8</td>\n",
       "    </tr>\n",
       "    <tr>\n",
       "      <th>11</th>\n",
       "      <td>1</td>\n",
       "      <td>[thanks, hater, face, day]</td>\n",
       "      <td>12</td>\n",
       "    </tr>\n",
       "  </tbody>\n",
       "</table>\n",
       "</div>"
      ],
      "text/plain": [
       "    Sentiment                            SentimentText  wordcount\n",
       "2           1                           [omg, already]          5\n",
       "6           1      [juuuuuuuuuuuuuuuuussssst, chillin]          2\n",
       "8           1  [handed, uniform, today, miss, already]         10\n",
       "9           1                  [hmmmm, wonder, number]          8\n",
       "11          1               [thanks, hater, face, day]         12"
      ]
     },
     "execution_count": 33,
     "metadata": {},
     "output_type": "execute_result"
    }
   ],
   "source": [
    "positive_tweets.head()"
   ]
  },
  {
   "cell_type": "code",
   "execution_count": 34,
   "metadata": {},
   "outputs": [
    {
     "data": {
      "text/html": [
       "<div>\n",
       "<style scoped>\n",
       "    .dataframe tbody tr th:only-of-type {\n",
       "        vertical-align: middle;\n",
       "    }\n",
       "\n",
       "    .dataframe tbody tr th {\n",
       "        vertical-align: top;\n",
       "    }\n",
       "\n",
       "    .dataframe thead th {\n",
       "        text-align: right;\n",
       "    }\n",
       "</style>\n",
       "<table border=\"1\" class=\"dataframe\">\n",
       "  <thead>\n",
       "    <tr style=\"text-align: right;\">\n",
       "      <th></th>\n",
       "      <th>Sentiment</th>\n",
       "      <th>SentimentText</th>\n",
       "      <th>wordcount</th>\n",
       "    </tr>\n",
       "  </thead>\n",
       "  <tbody>\n",
       "    <tr>\n",
       "      <th>0</th>\n",
       "      <td>0</td>\n",
       "      <td>[sad, apl, friend]</td>\n",
       "      <td>7</td>\n",
       "    </tr>\n",
       "    <tr>\n",
       "      <th>1</th>\n",
       "      <td>0</td>\n",
       "      <td>[missed, new, moon, trailer]</td>\n",
       "      <td>6</td>\n",
       "    </tr>\n",
       "    <tr>\n",
       "      <th>3</th>\n",
       "      <td>0</td>\n",
       "      <td>[omgaga, sooo, gunna, cry, dentist, since, sup...</td>\n",
       "      <td>25</td>\n",
       "    </tr>\n",
       "    <tr>\n",
       "      <th>4</th>\n",
       "      <td>0</td>\n",
       "      <td>[think, cheating]</td>\n",
       "      <td>9</td>\n",
       "    </tr>\n",
       "    <tr>\n",
       "      <th>5</th>\n",
       "      <td>0</td>\n",
       "      <td>[worry, much]</td>\n",
       "      <td>6</td>\n",
       "    </tr>\n",
       "  </tbody>\n",
       "</table>\n",
       "</div>"
      ],
      "text/plain": [
       "   Sentiment                                      SentimentText  wordcount\n",
       "0          0                                 [sad, apl, friend]          7\n",
       "1          0                       [missed, new, moon, trailer]          6\n",
       "3          0  [omgaga, sooo, gunna, cry, dentist, since, sup...         25\n",
       "4          0                                  [think, cheating]          9\n",
       "5          0                                      [worry, much]          6"
      ]
     },
     "execution_count": 34,
     "metadata": {},
     "output_type": "execute_result"
    }
   ],
   "source": [
    "negative_tweets.head()"
   ]
  },
  {
   "cell_type": "code",
   "execution_count": 35,
   "metadata": {},
   "outputs": [],
   "source": [
    "positive_tweets_list = positive_tweets['SentimentText'].tolist()\n",
    "negative_tweets_list = negative_tweets['SentimentText'].tolist()"
   ]
  },
  {
   "cell_type": "code",
   "execution_count": 36,
   "metadata": {},
   "outputs": [],
   "source": [
    "positive_words = [word for sublist in positive_tweets_list for word in sublist]"
   ]
  },
  {
   "cell_type": "code",
   "execution_count": 37,
   "metadata": {},
   "outputs": [],
   "source": [
    "from collections import Counter"
   ]
  },
  {
   "cell_type": "code",
   "execution_count": 38,
   "metadata": {},
   "outputs": [],
   "source": [
    "top_10_positive_words = Counter(positive_words).most_common(10)"
   ]
  },
  {
   "cell_type": "code",
   "execution_count": 39,
   "metadata": {},
   "outputs": [
    {
     "data": {
      "text/plain": [
       "[('good', 60861),\n",
       " ('day', 55570),\n",
       " ('love', 50259),\n",
       " ('quot', 45368),\n",
       " ('like', 38296),\n",
       " ('get', 38085),\n",
       " ('lol', 35989),\n",
       " ('thanks', 34591),\n",
       " ('time', 33991),\n",
       " ('got', 31678)]"
      ]
     },
     "execution_count": 39,
     "metadata": {},
     "output_type": "execute_result"
    }
   ],
   "source": [
    "top_10_positive_words"
   ]
  },
  {
   "cell_type": "markdown",
   "metadata": {},
   "source": [
    "Above numbers show top 10 most positive words in the positive tweets."
   ]
  },
  {
   "cell_type": "code",
   "execution_count": 40,
   "metadata": {},
   "outputs": [],
   "source": [
    "negative_words = [word for sublist in negative_tweets_list for word in sublist]"
   ]
  },
  {
   "cell_type": "code",
   "execution_count": 41,
   "metadata": {},
   "outputs": [],
   "source": [
    "top_10_negative_words = Counter(negative_words).most_common(10)"
   ]
  },
  {
   "cell_type": "code",
   "execution_count": 42,
   "metadata": {},
   "outputs": [
    {
     "data": {
      "text/plain": [
       "[('day', 51744),\n",
       " ('get', 47930),\n",
       " ('work', 45547),\n",
       " ('like', 41371),\n",
       " ('got', 38435),\n",
       " ('today', 38109),\n",
       " ('want', 33694),\n",
       " ('going', 33421),\n",
       " ('back', 32676),\n",
       " ('miss', 31551)]"
      ]
     },
     "execution_count": 42,
     "metadata": {},
     "output_type": "execute_result"
    }
   ],
   "source": [
    "top_10_negative_words"
   ]
  },
  {
   "cell_type": "markdown",
   "metadata": {},
   "source": [
    "The above numbers show top 10 most negative words in the negative tweets."
   ]
  },
  {
   "cell_type": "markdown",
   "metadata": {},
   "source": [
    "### Plot most frequent words using Zipf's Law"
   ]
  },
  {
   "cell_type": "code",
   "execution_count": 43,
   "metadata": {},
   "outputs": [],
   "source": [
    "twitter_data_list = twitter_data['SentimentText'].tolist()"
   ]
  },
  {
   "cell_type": "code",
   "execution_count": 44,
   "metadata": {},
   "outputs": [],
   "source": [
    "twitter_data_words = [word for sublist in twitter_data_list for word in sublist]\n",
    "top_word_frequencies = Counter(twitter_data_words).most_common(50)"
   ]
  },
  {
   "cell_type": "code",
   "execution_count": 45,
   "metadata": {},
   "outputs": [
    {
     "data": {
      "text/plain": [
       "[('day', 107314),\n",
       " ('good', 89857),\n",
       " ('get', 86015),\n",
       " ('like', 79667),\n",
       " ('quot', 71241),\n",
       " ('got', 70113),\n",
       " ('today', 68111),\n",
       " ('love', 67969),\n",
       " ('work', 66940),\n",
       " ('time', 65330),\n",
       " ('going', 63970),\n",
       " ('lol', 59091),\n",
       " ('one', 57067),\n",
       " ('back', 56260),\n",
       " ('know', 53920),\n",
       " ('really', 49625),\n",
       " ('amp', 48209),\n",
       " ('want', 47897),\n",
       " ('see', 46296),\n",
       " ('night', 45538),\n",
       " ('think', 43688),\n",
       " ('still', 43348),\n",
       " ('well', 42532),\n",
       " ('new', 42127),\n",
       " ('need', 40512),\n",
       " ('thanks', 40411),\n",
       " ('na', 40171),\n",
       " ('home', 39930),\n",
       " ('miss', 37361),\n",
       " ('much', 36906),\n",
       " ('last', 35717),\n",
       " ('feel', 35035),\n",
       " ('make', 34598),\n",
       " ('hope', 34582),\n",
       " ('tomorrow', 33998),\n",
       " ('morning', 33930),\n",
       " ('great', 33415),\n",
       " ('twitter', 33205),\n",
       " ('haha', 31373),\n",
       " ('wish', 30246),\n",
       " ('sad', 29258),\n",
       " ('fun', 28532),\n",
       " ('come', 28463),\n",
       " ('week', 28186),\n",
       " ('sleep', 28086),\n",
       " ('right', 28007),\n",
       " ('would', 27249),\n",
       " ('bad', 27072),\n",
       " ('thing', 26443),\n",
       " ('happy', 26372)]"
      ]
     },
     "execution_count": 45,
     "metadata": {},
     "output_type": "execute_result"
    }
   ],
   "source": [
    "top_word_frequencies"
   ]
  },
  {
   "cell_type": "code",
   "execution_count": 46,
   "metadata": {},
   "outputs": [],
   "source": [
    "rank = 1\n",
    "column_header = ['Rank', 'Frequency', 'Frequency * Rank']\n",
    "zipf_data = pd.DataFrame(columns = column_header )\n",
    "#zif_data.head()"
   ]
  },
  {
   "cell_type": "code",
   "execution_count": 47,
   "metadata": {},
   "outputs": [
    {
     "name": "stdout",
     "output_type": "stream",
     "text": [
      "         Rank Frequency Frequency * Rank\n",
      "day         1    107314           107314\n",
      "good        2     89857           179714\n",
      "get         3     86015           258045\n",
      "like        4     79667           318668\n",
      "quot        5     71241           356205\n",
      "got         6     70113           420678\n",
      "today       7     68111           476777\n",
      "love        8     67969           543752\n",
      "work        9     66940           602460\n",
      "time       10     65330           653300\n",
      "going      11     63970           703670\n",
      "lol        12     59091           709092\n",
      "one        13     57067           741871\n",
      "back       14     56260           787640\n",
      "know       15     53920           808800\n",
      "really     16     49625           794000\n",
      "amp        17     48209           819553\n",
      "want       18     47897           862146\n",
      "see        19     46296           879624\n",
      "night      20     45538           910760\n",
      "think      21     43688           917448\n",
      "still      22     43348           953656\n",
      "well       23     42532           978236\n",
      "new        24     42127          1011048\n",
      "need       25     40512          1012800\n",
      "thanks     26     40411          1050686\n",
      "na         27     40171          1084617\n",
      "home       28     39930          1118040\n",
      "miss       29     37361          1083469\n",
      "much       30     36906          1107180\n",
      "last       31     35717          1107227\n",
      "feel       32     35035          1121120\n",
      "make       33     34598          1141734\n",
      "hope       34     34582          1175788\n",
      "tomorrow   35     33998          1189930\n",
      "morning    36     33930          1221480\n",
      "great      37     33415          1236355\n",
      "twitter    38     33205          1261790\n",
      "haha       39     31373          1223547\n",
      "wish       40     30246          1209840\n",
      "sad        41     29258          1199578\n",
      "fun        42     28532          1198344\n",
      "come       43     28463          1223909\n",
      "week       44     28186          1240184\n",
      "sleep      45     28086          1263870\n",
      "right      46     28007          1288322\n",
      "would      47     27249          1280703\n",
      "bad        48     27072          1299456\n",
      "thing      49     26443          1295707\n",
      "happy      50     26372          1318600\n"
     ]
    }
   ],
   "source": [
    "for word , freq in top_word_frequencies:\n",
    "    zipf_data.loc[word] = [rank, freq, rank*freq]\n",
    "    rank = rank + 1\n",
    "    \n",
    "print (zipf_data)"
   ]
  },
  {
   "cell_type": "code",
   "execution_count": 48,
   "metadata": {},
   "outputs": [
    {
     "data": {
      "image/png": "[encoded data removed]",
      "text/plain": [
       "<Figure size 1440x1440 with 1 Axes>"
      ]
     },
     "metadata": {
      "needs_background": "light"
     },
     "output_type": "display_data"
    }
   ],
   "source": [
    "plt.figure(figsize=(20,20))  #to increase the plot resolution\n",
    "plt.ylabel(\"Frequency\")\n",
    "plt.xlabel(\"Most frequent Words\")\n",
    "plt.xticks(rotation=90)    #to rotate x-axis values\n",
    "\n",
    "for word , freq in top_word_frequencies:\n",
    "    plt.bar(word, freq)    \n",
    "plt.show()"
   ]
  },
  {
   "cell_type": "markdown",
   "metadata": {},
   "source": [
    "From the graph above, most frequent word is 'day' and repeated 107314 time in the tweets."
   ]
  },
  {
   "cell_type": "markdown",
   "metadata": {},
   "source": [
    "### Bag of words\n",
    "\n",
    "We'll convert each tweet which is represented by a list of tokens into a vector that a machine learning model can understand.\n",
    "To do this we use the 'Bag of words'."
   ]
  },
  {
   "cell_type": "code",
   "execution_count": 49,
   "metadata": {},
   "outputs": [
    {
     "name": "stdout",
     "output_type": "stream",
     "text": [
      "(1578614, 256080)\n",
      "(1578614,)\n"
     ]
    }
   ],
   "source": [
    "matrix = CountVectorizer()\n",
    "x = matrix.fit_transform(twitter_data['SentimentText'].astype(\"str\"))\n",
    "y = twitter_data.iloc[:, 0]\n",
    "\n",
    "print(x.shape)\n",
    "print(y.shape)"
   ]
  },
  {
   "cell_type": "markdown",
   "metadata": {},
   "source": [
    "### Pepare data for training model"
   ]
  },
  {
   "cell_type": "code",
   "execution_count": 50,
   "metadata": {},
   "outputs": [],
   "source": [
    "x_train, x_test, y_train, y_test = train_test_split(x, y, test_size = 0.2, random_state = 42)"
   ]
  },
  {
   "cell_type": "code",
   "execution_count": 51,
   "metadata": {},
   "outputs": [],
   "source": [
    "from sklearn.preprocessing import StandardScaler\n",
    "\n",
    "sc = StandardScaler(with_mean=False)\n",
    "\n",
    "x_train = sc.fit_transform(x_train)\n",
    "x_test = sc.transform(x_test)"
   ]
  },
  {
   "cell_type": "markdown",
   "metadata": {},
   "source": [
    "### Model Building"
   ]
  },
  {
   "cell_type": "code",
   "execution_count": 52,
   "metadata": {},
   "outputs": [
    {
     "data": {
      "text/plain": [
       "LogisticRegression(max_iter=1000)"
      ]
     },
     "execution_count": 52,
     "metadata": {},
     "output_type": "execute_result"
    }
   ],
   "source": [
    "logestic_reg_model = LogisticRegression(solver='lbfgs',max_iter=1000)\n",
    "logestic_reg_model.fit(x_train, y_train)"
   ]
  },
  {
   "cell_type": "code",
   "execution_count": null,
   "metadata": {},
   "outputs": [],
   "source": [
    "y_pred = logestic_reg_model.predict(x_test)"
   ]
  },
  {
   "cell_type": "markdown",
   "metadata": {},
   "source": [
    "### Model Evaluation"
   ]
  },
  {
   "cell_type": "code",
   "execution_count": 56,
   "metadata": {},
   "outputs": [],
   "source": [
    "def show_model_evaluation_metrics(y, y_predicted):\n",
    "    print(\"Training Accuracy :\", logestic_reg_model.score(x_train, y_train))\n",
    "    print(\"Test Accuracy :\", logestic_reg_model.score(x_test, y_test))\n",
    "    print(\"f1 score :\", f1_score(y_test, y_pred))"
   ]
  },
  {
   "cell_type": "markdown",
   "metadata": {},
   "source": [
    "The evaluation metrics for test data"
   ]
  },
  {
   "cell_type": "code",
   "execution_count": 58,
   "metadata": {},
   "outputs": [
    {
     "name": "stdout",
     "output_type": "stream",
     "text": [
      "Training Accuracy : 0.8240521153448714\n",
      "Test Accuracy : 0.7574392743005736\n",
      "f1 score : 0.7623699088353388\n"
     ]
    }
   ],
   "source": [
    "show_model_evaluation_metrics(y_test, y_pred)"
   ]
  },
  {
   "cell_type": "markdown",
   "metadata": {},
   "source": [
    "Here, I also show the evaluation metrics for training data because the comparison between training metrics and test metrics tells us if our model is under or overfitting."
   ]
  }
 ],
 "metadata": {
  "kernelspec": {
   "display_name": "Python 3",
   "language": "python",
   "name": "python3"
  },
  "language_info": {
   "codemirror_mode": {
    "name": "ipython",
    "version": 3
   },
   "file_extension": ".py",
   "mimetype": "text/x-python",
   "name": "python",
   "nbconvert_exporter": "python",
   "pygments_lexer": "ipython3",
   "version": "3.7.9"
  }
 },
 "nbformat": 4,
 "nbformat_minor": 4
}
